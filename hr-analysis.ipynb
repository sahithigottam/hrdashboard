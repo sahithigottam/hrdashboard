{
 "cells": [
  {
   "cell_type": "code",
   "execution_count": 1,
   "id": "dfa76861",
   "metadata": {
    "_cell_guid": "b1076dfc-b9ad-4769-8c92-a6c4dae69d19",
    "_uuid": "8f2839f25d086af736a60e9eeb907d3b93b6e0e5",
    "execution": {
     "iopub.execute_input": "2022-08-07T19:53:03.448609Z",
     "iopub.status.busy": "2022-08-07T19:53:03.448116Z",
     "iopub.status.idle": "2022-08-07T19:53:03.471921Z",
     "shell.execute_reply": "2022-08-07T19:53:03.470391Z"
    },
    "papermill": {
     "duration": 0.03898,
     "end_time": "2022-08-07T19:53:03.474473",
     "exception": false,
     "start_time": "2022-08-07T19:53:03.435493",
     "status": "completed"
    },
    "tags": []
   },
   "outputs": [
    {
     "name": "stdout",
     "output_type": "stream",
     "text": [
      "/kaggle/input/hr-analytics/HR_comma_sep.csv\n"
     ]
    }
   ],
   "source": [
    "# This Python 3 environment comes with many helpful analytics libraries installed\n",
    "# It is defined by the kaggle/python Docker image: https://github.com/kaggle/docker-python\n",
    "# For example, here's several helpful packages to load\n",
    "\n",
    "import numpy as np # linear algebra\n",
    "import pandas as pd # data processing, CSV file I/O (e.g. pd.read_csv)\n",
    "\n",
    "# Input data files are available in the read-only \"../input/\" directory\n",
    "# For example, running this (by clicking run or pressing Shift+Enter) will list all files under the input directory\n",
    "\n",
    "import os\n",
    "for dirname, _, filenames in os.walk('/kaggle/input'):\n",
    "    for filename in filenames:\n",
    "        print(os.path.join(dirname, filename))\n",
    "\n",
    "# You can write up to 20GB to the current directory (/kaggle/working/) that gets preserved as output when you create a version using \"Save & Run All\" \n",
    "# You can also write temporary files to /kaggle/temp/, but they won't be saved outside of the current session"
   ]
  },
  {
   "cell_type": "code",
   "execution_count": 2,
   "id": "66d8c6d1",
   "metadata": {
    "execution": {
     "iopub.execute_input": "2022-08-07T19:53:03.493580Z",
     "iopub.status.busy": "2022-08-07T19:53:03.493250Z",
     "iopub.status.idle": "2022-08-07T19:53:03.547797Z",
     "shell.execute_reply": "2022-08-07T19:53:03.546520Z"
    },
    "papermill": {
     "duration": 0.066954,
     "end_time": "2022-08-07T19:53:03.550513",
     "exception": false,
     "start_time": "2022-08-07T19:53:03.483559",
     "status": "completed"
    },
    "tags": []
   },
   "outputs": [
    {
     "data": {
      "text/html": [
       "<div>\n",
       "<style scoped>\n",
       "    .dataframe tbody tr th:only-of-type {\n",
       "        vertical-align: middle;\n",
       "    }\n",
       "\n",
       "    .dataframe tbody tr th {\n",
       "        vertical-align: top;\n",
       "    }\n",
       "\n",
       "    .dataframe thead th {\n",
       "        text-align: right;\n",
       "    }\n",
       "</style>\n",
       "<table border=\"1\" class=\"dataframe\">\n",
       "  <thead>\n",
       "    <tr style=\"text-align: right;\">\n",
       "      <th></th>\n",
       "      <th>satisfaction_level</th>\n",
       "      <th>last_evaluation</th>\n",
       "      <th>number_project</th>\n",
       "      <th>average_montly_hours</th>\n",
       "      <th>time_spend_company</th>\n",
       "      <th>Work_accident</th>\n",
       "      <th>left</th>\n",
       "      <th>promotion_last_5years</th>\n",
       "      <th>Department</th>\n",
       "      <th>salary</th>\n",
       "    </tr>\n",
       "  </thead>\n",
       "  <tbody>\n",
       "    <tr>\n",
       "      <th>0</th>\n",
       "      <td>0.38</td>\n",
       "      <td>0.53</td>\n",
       "      <td>2</td>\n",
       "      <td>157</td>\n",
       "      <td>3</td>\n",
       "      <td>0</td>\n",
       "      <td>1</td>\n",
       "      <td>0</td>\n",
       "      <td>sales</td>\n",
       "      <td>low</td>\n",
       "    </tr>\n",
       "    <tr>\n",
       "      <th>1</th>\n",
       "      <td>0.80</td>\n",
       "      <td>0.86</td>\n",
       "      <td>5</td>\n",
       "      <td>262</td>\n",
       "      <td>6</td>\n",
       "      <td>0</td>\n",
       "      <td>1</td>\n",
       "      <td>0</td>\n",
       "      <td>sales</td>\n",
       "      <td>medium</td>\n",
       "    </tr>\n",
       "    <tr>\n",
       "      <th>2</th>\n",
       "      <td>0.11</td>\n",
       "      <td>0.88</td>\n",
       "      <td>7</td>\n",
       "      <td>272</td>\n",
       "      <td>4</td>\n",
       "      <td>0</td>\n",
       "      <td>1</td>\n",
       "      <td>0</td>\n",
       "      <td>sales</td>\n",
       "      <td>medium</td>\n",
       "    </tr>\n",
       "    <tr>\n",
       "      <th>3</th>\n",
       "      <td>0.72</td>\n",
       "      <td>0.87</td>\n",
       "      <td>5</td>\n",
       "      <td>223</td>\n",
       "      <td>5</td>\n",
       "      <td>0</td>\n",
       "      <td>1</td>\n",
       "      <td>0</td>\n",
       "      <td>sales</td>\n",
       "      <td>low</td>\n",
       "    </tr>\n",
       "    <tr>\n",
       "      <th>4</th>\n",
       "      <td>0.37</td>\n",
       "      <td>0.52</td>\n",
       "      <td>2</td>\n",
       "      <td>159</td>\n",
       "      <td>3</td>\n",
       "      <td>0</td>\n",
       "      <td>1</td>\n",
       "      <td>0</td>\n",
       "      <td>sales</td>\n",
       "      <td>low</td>\n",
       "    </tr>\n",
       "  </tbody>\n",
       "</table>\n",
       "</div>"
      ],
      "text/plain": [
       "   satisfaction_level  last_evaluation  number_project  average_montly_hours  \\\n",
       "0                0.38             0.53               2                   157   \n",
       "1                0.80             0.86               5                   262   \n",
       "2                0.11             0.88               7                   272   \n",
       "3                0.72             0.87               5                   223   \n",
       "4                0.37             0.52               2                   159   \n",
       "\n",
       "   time_spend_company  Work_accident  left  promotion_last_5years Department  \\\n",
       "0                   3              0     1                      0      sales   \n",
       "1                   6              0     1                      0      sales   \n",
       "2                   4              0     1                      0      sales   \n",
       "3                   5              0     1                      0      sales   \n",
       "4                   3              0     1                      0      sales   \n",
       "\n",
       "   salary  \n",
       "0     low  \n",
       "1  medium  \n",
       "2  medium  \n",
       "3     low  \n",
       "4     low  "
      ]
     },
     "execution_count": 2,
     "metadata": {},
     "output_type": "execute_result"
    }
   ],
   "source": [
    "df = pd.read_csv(\"../input/hr-analytics/HR_comma_sep.csv\")\n",
    "df.head()"
   ]
  },
  {
   "cell_type": "code",
   "execution_count": 3,
   "id": "c3c3fbd2",
   "metadata": {
    "execution": {
     "iopub.execute_input": "2022-08-07T19:53:03.569659Z",
     "iopub.status.busy": "2022-08-07T19:53:03.569302Z",
     "iopub.status.idle": "2022-08-07T19:53:03.596113Z",
     "shell.execute_reply": "2022-08-07T19:53:03.594563Z"
    },
    "papermill": {
     "duration": 0.038605,
     "end_time": "2022-08-07T19:53:03.598320",
     "exception": false,
     "start_time": "2022-08-07T19:53:03.559715",
     "status": "completed"
    },
    "tags": []
   },
   "outputs": [
    {
     "name": "stdout",
     "output_type": "stream",
     "text": [
      "<class 'pandas.core.frame.DataFrame'>\n",
      "RangeIndex: 14999 entries, 0 to 14998\n",
      "Data columns (total 10 columns):\n",
      " #   Column                 Non-Null Count  Dtype  \n",
      "---  ------                 --------------  -----  \n",
      " 0   satisfaction_level     14999 non-null  float64\n",
      " 1   last_evaluation        14999 non-null  float64\n",
      " 2   number_project         14999 non-null  int64  \n",
      " 3   average_montly_hours   14999 non-null  int64  \n",
      " 4   time_spend_company     14999 non-null  int64  \n",
      " 5   Work_accident          14999 non-null  int64  \n",
      " 6   left                   14999 non-null  int64  \n",
      " 7   promotion_last_5years  14999 non-null  int64  \n",
      " 8   Department             14999 non-null  object \n",
      " 9   salary                 14999 non-null  object \n",
      "dtypes: float64(2), int64(6), object(2)\n",
      "memory usage: 1.1+ MB\n"
     ]
    }
   ],
   "source": [
    "df.info()"
   ]
  },
  {
   "cell_type": "code",
   "execution_count": 4,
   "id": "9c58b625",
   "metadata": {
    "execution": {
     "iopub.execute_input": "2022-08-07T19:53:03.618265Z",
     "iopub.status.busy": "2022-08-07T19:53:03.617890Z",
     "iopub.status.idle": "2022-08-07T19:53:03.628831Z",
     "shell.execute_reply": "2022-08-07T19:53:03.627682Z"
    },
    "papermill": {
     "duration": 0.023559,
     "end_time": "2022-08-07T19:53:03.631197",
     "exception": false,
     "start_time": "2022-08-07T19:53:03.607638",
     "status": "completed"
    },
    "tags": []
   },
   "outputs": [
    {
     "data": {
      "text/plain": [
       "satisfaction_level       0\n",
       "last_evaluation          0\n",
       "number_project           0\n",
       "average_montly_hours     0\n",
       "time_spend_company       0\n",
       "Work_accident            0\n",
       "left                     0\n",
       "promotion_last_5years    0\n",
       "Department               0\n",
       "salary                   0\n",
       "dtype: int64"
      ]
     },
     "execution_count": 4,
     "metadata": {},
     "output_type": "execute_result"
    }
   ],
   "source": [
    "# Missing values\n",
    "df.isnull().sum()"
   ]
  },
  {
   "cell_type": "code",
   "execution_count": 5,
   "id": "f3e647ee",
   "metadata": {
    "execution": {
     "iopub.execute_input": "2022-08-07T19:53:03.651042Z",
     "iopub.status.busy": "2022-08-07T19:53:03.650713Z",
     "iopub.status.idle": "2022-08-07T19:53:03.691983Z",
     "shell.execute_reply": "2022-08-07T19:53:03.690833Z"
    },
    "papermill": {
     "duration": 0.053631,
     "end_time": "2022-08-07T19:53:03.694132",
     "exception": false,
     "start_time": "2022-08-07T19:53:03.640501",
     "status": "completed"
    },
    "tags": []
   },
   "outputs": [
    {
     "data": {
      "text/html": [
       "<div>\n",
       "<style scoped>\n",
       "    .dataframe tbody tr th:only-of-type {\n",
       "        vertical-align: middle;\n",
       "    }\n",
       "\n",
       "    .dataframe tbody tr th {\n",
       "        vertical-align: top;\n",
       "    }\n",
       "\n",
       "    .dataframe thead th {\n",
       "        text-align: right;\n",
       "    }\n",
       "</style>\n",
       "<table border=\"1\" class=\"dataframe\">\n",
       "  <thead>\n",
       "    <tr style=\"text-align: right;\">\n",
       "      <th></th>\n",
       "      <th>satisfaction_level</th>\n",
       "      <th>last_evaluation</th>\n",
       "      <th>number_project</th>\n",
       "      <th>average_montly_hours</th>\n",
       "      <th>time_spend_company</th>\n",
       "      <th>Work_accident</th>\n",
       "      <th>left</th>\n",
       "      <th>promotion_last_5years</th>\n",
       "    </tr>\n",
       "  </thead>\n",
       "  <tbody>\n",
       "    <tr>\n",
       "      <th>count</th>\n",
       "      <td>14999.000000</td>\n",
       "      <td>14999.000000</td>\n",
       "      <td>14999.000000</td>\n",
       "      <td>14999.000000</td>\n",
       "      <td>14999.000000</td>\n",
       "      <td>14999.000000</td>\n",
       "      <td>14999.000000</td>\n",
       "      <td>14999.000000</td>\n",
       "    </tr>\n",
       "    <tr>\n",
       "      <th>mean</th>\n",
       "      <td>0.612834</td>\n",
       "      <td>0.716102</td>\n",
       "      <td>3.803054</td>\n",
       "      <td>201.050337</td>\n",
       "      <td>3.498233</td>\n",
       "      <td>0.144610</td>\n",
       "      <td>0.238083</td>\n",
       "      <td>0.021268</td>\n",
       "    </tr>\n",
       "    <tr>\n",
       "      <th>std</th>\n",
       "      <td>0.248631</td>\n",
       "      <td>0.171169</td>\n",
       "      <td>1.232592</td>\n",
       "      <td>49.943099</td>\n",
       "      <td>1.460136</td>\n",
       "      <td>0.351719</td>\n",
       "      <td>0.425924</td>\n",
       "      <td>0.144281</td>\n",
       "    </tr>\n",
       "    <tr>\n",
       "      <th>min</th>\n",
       "      <td>0.090000</td>\n",
       "      <td>0.360000</td>\n",
       "      <td>2.000000</td>\n",
       "      <td>96.000000</td>\n",
       "      <td>2.000000</td>\n",
       "      <td>0.000000</td>\n",
       "      <td>0.000000</td>\n",
       "      <td>0.000000</td>\n",
       "    </tr>\n",
       "    <tr>\n",
       "      <th>25%</th>\n",
       "      <td>0.440000</td>\n",
       "      <td>0.560000</td>\n",
       "      <td>3.000000</td>\n",
       "      <td>156.000000</td>\n",
       "      <td>3.000000</td>\n",
       "      <td>0.000000</td>\n",
       "      <td>0.000000</td>\n",
       "      <td>0.000000</td>\n",
       "    </tr>\n",
       "    <tr>\n",
       "      <th>50%</th>\n",
       "      <td>0.640000</td>\n",
       "      <td>0.720000</td>\n",
       "      <td>4.000000</td>\n",
       "      <td>200.000000</td>\n",
       "      <td>3.000000</td>\n",
       "      <td>0.000000</td>\n",
       "      <td>0.000000</td>\n",
       "      <td>0.000000</td>\n",
       "    </tr>\n",
       "    <tr>\n",
       "      <th>75%</th>\n",
       "      <td>0.820000</td>\n",
       "      <td>0.870000</td>\n",
       "      <td>5.000000</td>\n",
       "      <td>245.000000</td>\n",
       "      <td>4.000000</td>\n",
       "      <td>0.000000</td>\n",
       "      <td>0.000000</td>\n",
       "      <td>0.000000</td>\n",
       "    </tr>\n",
       "    <tr>\n",
       "      <th>max</th>\n",
       "      <td>1.000000</td>\n",
       "      <td>1.000000</td>\n",
       "      <td>7.000000</td>\n",
       "      <td>310.000000</td>\n",
       "      <td>10.000000</td>\n",
       "      <td>1.000000</td>\n",
       "      <td>1.000000</td>\n",
       "      <td>1.000000</td>\n",
       "    </tr>\n",
       "  </tbody>\n",
       "</table>\n",
       "</div>"
      ],
      "text/plain": [
       "       satisfaction_level  last_evaluation  number_project  \\\n",
       "count        14999.000000     14999.000000    14999.000000   \n",
       "mean             0.612834         0.716102        3.803054   \n",
       "std              0.248631         0.171169        1.232592   \n",
       "min              0.090000         0.360000        2.000000   \n",
       "25%              0.440000         0.560000        3.000000   \n",
       "50%              0.640000         0.720000        4.000000   \n",
       "75%              0.820000         0.870000        5.000000   \n",
       "max              1.000000         1.000000        7.000000   \n",
       "\n",
       "       average_montly_hours  time_spend_company  Work_accident          left  \\\n",
       "count          14999.000000        14999.000000   14999.000000  14999.000000   \n",
       "mean             201.050337            3.498233       0.144610      0.238083   \n",
       "std               49.943099            1.460136       0.351719      0.425924   \n",
       "min               96.000000            2.000000       0.000000      0.000000   \n",
       "25%              156.000000            3.000000       0.000000      0.000000   \n",
       "50%              200.000000            3.000000       0.000000      0.000000   \n",
       "75%              245.000000            4.000000       0.000000      0.000000   \n",
       "max              310.000000           10.000000       1.000000      1.000000   \n",
       "\n",
       "       promotion_last_5years  \n",
       "count           14999.000000  \n",
       "mean                0.021268  \n",
       "std                 0.144281  \n",
       "min                 0.000000  \n",
       "25%                 0.000000  \n",
       "50%                 0.000000  \n",
       "75%                 0.000000  \n",
       "max                 1.000000  "
      ]
     },
     "execution_count": 5,
     "metadata": {},
     "output_type": "execute_result"
    }
   ],
   "source": [
    "df.describe()"
   ]
  },
  {
   "cell_type": "code",
   "execution_count": 6,
   "id": "3deccdd3",
   "metadata": {
    "execution": {
     "iopub.execute_input": "2022-08-07T19:53:03.716205Z",
     "iopub.status.busy": "2022-08-07T19:53:03.714968Z",
     "iopub.status.idle": "2022-08-07T19:53:04.780728Z",
     "shell.execute_reply": "2022-08-07T19:53:04.779605Z"
    },
    "papermill": {
     "duration": 1.078952,
     "end_time": "2022-08-07T19:53:04.783468",
     "exception": false,
     "start_time": "2022-08-07T19:53:03.704516",
     "status": "completed"
    },
    "tags": []
   },
   "outputs": [],
   "source": [
    "import seaborn as sns\n",
    "import matplotlib.pyplot as plt"
   ]
  },
  {
   "cell_type": "code",
   "execution_count": 7,
   "id": "180b1f04",
   "metadata": {
    "execution": {
     "iopub.execute_input": "2022-08-07T19:53:04.803459Z",
     "iopub.status.busy": "2022-08-07T19:53:04.803111Z",
     "iopub.status.idle": "2022-08-07T19:53:05.025137Z",
     "shell.execute_reply": "2022-08-07T19:53:05.024053Z"
    },
    "papermill": {
     "duration": 0.234868,
     "end_time": "2022-08-07T19:53:05.027672",
     "exception": false,
     "start_time": "2022-08-07T19:53:04.792804",
     "status": "completed"
    },
    "tags": []
   },
   "outputs": [
    {
     "data": {
      "text/plain": [
       "<AxesSubplot:xlabel='salary', ylabel='count'>"
      ]
     },
     "execution_count": 7,
     "metadata": {},
     "output_type": "execute_result"
    },
    {
     "data": {
      "image/png": "[encoded data removed]",
      "text/plain": [
       "<Figure size 432x288 with 1 Axes>"
      ]
     },
     "metadata": {
      "needs_background": "light"
     },
     "output_type": "display_data"
    }
   ],
   "source": [
    "# Count of salary\n",
    "sns.countplot(x = 'salary',data = df)"
   ]
  },
  {
   "cell_type": "code",
   "execution_count": 8,
   "id": "ff098810",
   "metadata": {
    "execution": {
     "iopub.execute_input": "2022-08-07T19:53:05.050784Z",
     "iopub.status.busy": "2022-08-07T19:53:05.050071Z",
     "iopub.status.idle": "2022-08-07T19:53:05.061385Z",
     "shell.execute_reply": "2022-08-07T19:53:05.060555Z"
    },
    "papermill": {
     "duration": 0.02479,
     "end_time": "2022-08-07T19:53:05.063320",
     "exception": false,
     "start_time": "2022-08-07T19:53:05.038530",
     "status": "completed"
    },
    "tags": []
   },
   "outputs": [
    {
     "data": {
      "text/plain": [
       "salary\n",
       "low       7316\n",
       "medium    6446\n",
       "high      1237\n",
       "Name: salary, dtype: int64"
      ]
     },
     "execution_count": 8,
     "metadata": {},
     "output_type": "execute_result"
    }
   ],
   "source": [
    "salary = df.groupby('salary')['salary'].agg('count').sort_values(ascending = False)\n",
    "salary"
   ]
  },
  {
   "cell_type": "code",
   "execution_count": 9,
   "id": "9b3a3424",
   "metadata": {
    "execution": {
     "iopub.execute_input": "2022-08-07T19:53:05.084863Z",
     "iopub.status.busy": "2022-08-07T19:53:05.083916Z",
     "iopub.status.idle": "2022-08-07T19:53:05.255322Z",
     "shell.execute_reply": "2022-08-07T19:53:05.254308Z"
    },
    "papermill": {
     "duration": 0.184571,
     "end_time": "2022-08-07T19:53:05.257936",
     "exception": false,
     "start_time": "2022-08-07T19:53:05.073365",
     "status": "completed"
    },
    "tags": []
   },
   "outputs": [
    {
     "name": "stderr",
     "output_type": "stream",
     "text": [
      "/opt/conda/lib/python3.7/site-packages/seaborn/_decorators.py:43: FutureWarning: Pass the following variable as a keyword arg: x. From version 0.12, the only valid positional argument will be `data`, and passing other arguments without an explicit keyword will result in an error or misinterpretation.\n",
      "  FutureWarning\n"
     ]
    },
    {
     "data": {
      "text/plain": [
       "<AxesSubplot:xlabel='Work_accident', ylabel='count'>"
      ]
     },
     "execution_count": 9,
     "metadata": {},
     "output_type": "execute_result"
    },
    {
     "data": {
      "image/png": "[encoded data removed]",
      "text/plain": [
       "<Figure size 432x288 with 1 Axes>"
      ]
     },
     "metadata": {
      "needs_background": "light"
     },
     "output_type": "display_data"
    }
   ],
   "source": [
    "# Number of work related accidents had in company\n",
    "sns.countplot('Work_accident',data = df)"
   ]
  },
  {
   "cell_type": "code",
   "execution_count": 10,
   "id": "fd5d7865",
   "metadata": {
    "execution": {
     "iopub.execute_input": "2022-08-07T19:53:05.283589Z",
     "iopub.status.busy": "2022-08-07T19:53:05.283210Z",
     "iopub.status.idle": "2022-08-07T19:53:05.293932Z",
     "shell.execute_reply": "2022-08-07T19:53:05.292836Z"
    },
    "papermill": {
     "duration": 0.025457,
     "end_time": "2022-08-07T19:53:05.296533",
     "exception": false,
     "start_time": "2022-08-07T19:53:05.271076",
     "status": "completed"
    },
    "tags": []
   },
   "outputs": [
    {
     "data": {
      "text/plain": [
       "Work_accident\n",
       "0    12830\n",
       "1     2169\n",
       "Name: Work_accident, dtype: int64"
      ]
     },
     "execution_count": 10,
     "metadata": {},
     "output_type": "execute_result"
    }
   ],
   "source": [
    "Work_accident = df.groupby('Work_accident')['Work_accident'].agg('count').sort_values(ascending = False)\n",
    "Work_accident"
   ]
  },
  {
   "cell_type": "code",
   "execution_count": 11,
   "id": "b39a9194",
   "metadata": {
    "execution": {
     "iopub.execute_input": "2022-08-07T19:53:05.322237Z",
     "iopub.status.busy": "2022-08-07T19:53:05.321142Z",
     "iopub.status.idle": "2022-08-07T19:53:05.488595Z",
     "shell.execute_reply": "2022-08-07T19:53:05.487686Z"
    },
    "papermill": {
     "duration": 0.184675,
     "end_time": "2022-08-07T19:53:05.493508",
     "exception": false,
     "start_time": "2022-08-07T19:53:05.308833",
     "status": "completed"
    },
    "tags": []
   },
   "outputs": [
    {
     "name": "stderr",
     "output_type": "stream",
     "text": [
      "/opt/conda/lib/python3.7/site-packages/seaborn/_decorators.py:43: FutureWarning: Pass the following variable as a keyword arg: x. From version 0.12, the only valid positional argument will be `data`, and passing other arguments without an explicit keyword will result in an error or misinterpretation.\n",
      "  FutureWarning\n"
     ]
    },
    {
     "data": {
      "text/plain": [
       "<AxesSubplot:xlabel='left', ylabel='count'>"
      ]
     },
     "execution_count": 11,
     "metadata": {},
     "output_type": "execute_result"
    },
    {
     "data": {
      "image/png": "[encoded data removed]",
      "text/plain": [
       "<Figure size 432x288 with 1 Axes>"
      ]
     },
     "metadata": {
      "needs_background": "light"
     },
     "output_type": "display_data"
    }
   ],
   "source": [
    "# Count of employees who left the company\n",
    "sns.countplot('left', data = df)"
   ]
  },
  {
   "cell_type": "code",
   "execution_count": 12,
   "id": "ddc4070d",
   "metadata": {
    "execution": {
     "iopub.execute_input": "2022-08-07T19:53:05.519556Z",
     "iopub.status.busy": "2022-08-07T19:53:05.518725Z",
     "iopub.status.idle": "2022-08-07T19:53:05.529158Z",
     "shell.execute_reply": "2022-08-07T19:53:05.527703Z"
    },
    "papermill": {
     "duration": 0.025362,
     "end_time": "2022-08-07T19:53:05.531516",
     "exception": false,
     "start_time": "2022-08-07T19:53:05.506154",
     "status": "completed"
    },
    "tags": []
   },
   "outputs": [
    {
     "data": {
      "text/plain": [
       "left\n",
       "0    11428\n",
       "1     3571\n",
       "Name: left, dtype: int64"
      ]
     },
     "execution_count": 12,
     "metadata": {},
     "output_type": "execute_result"
    }
   ],
   "source": [
    "left = df.groupby('left')['left'].agg('count').sort_values(ascending = False)\n",
    "left"
   ]
  },
  {
   "cell_type": "code",
   "execution_count": 13,
   "id": "2b821dcd",
   "metadata": {
    "execution": {
     "iopub.execute_input": "2022-08-07T19:53:05.556073Z",
     "iopub.status.busy": "2022-08-07T19:53:05.555714Z",
     "iopub.status.idle": "2022-08-07T19:53:05.685398Z",
     "shell.execute_reply": "2022-08-07T19:53:05.683886Z"
    },
    "papermill": {
     "duration": 0.145297,
     "end_time": "2022-08-07T19:53:05.688542",
     "exception": false,
     "start_time": "2022-08-07T19:53:05.543245",
     "status": "completed"
    },
    "tags": []
   },
   "outputs": [
    {
     "name": "stderr",
     "output_type": "stream",
     "text": [
      "/opt/conda/lib/python3.7/site-packages/seaborn/_decorators.py:43: FutureWarning: Pass the following variable as a keyword arg: x. From version 0.12, the only valid positional argument will be `data`, and passing other arguments without an explicit keyword will result in an error or misinterpretation.\n",
      "  FutureWarning\n"
     ]
    },
    {
     "data": {
      "text/plain": [
       "<AxesSubplot:xlabel='promotion_last_5years', ylabel='count'>"
      ]
     },
     "execution_count": 13,
     "metadata": {},
     "output_type": "execute_result"
    },
    {
     "data": {
      "image/png": "[encoded data removed]",
      "text/plain": [
       "<Figure size 432x288 with 1 Axes>"
      ]
     },
     "metadata": {
      "needs_background": "light"
     },
     "output_type": "display_data"
    }
   ],
   "source": [
    "# Count of employees who had promotion in last 5 years.\n",
    "sns.countplot('promotion_last_5years', data = df)"
   ]
  },
  {
   "cell_type": "code",
   "execution_count": 14,
   "id": "41d8ac09",
   "metadata": {
    "execution": {
     "iopub.execute_input": "2022-08-07T19:53:05.716388Z",
     "iopub.status.busy": "2022-08-07T19:53:05.715676Z",
     "iopub.status.idle": "2022-08-07T19:53:05.724586Z",
     "shell.execute_reply": "2022-08-07T19:53:05.723677Z"
    },
    "papermill": {
     "duration": 0.025398,
     "end_time": "2022-08-07T19:53:05.726947",
     "exception": false,
     "start_time": "2022-08-07T19:53:05.701549",
     "status": "completed"
    },
    "tags": []
   },
   "outputs": [
    {
     "data": {
      "text/plain": [
       "promotion_last_5years\n",
       "0    14680\n",
       "1      319\n",
       "Name: promotion_last_5years, dtype: int64"
      ]
     },
     "execution_count": 14,
     "metadata": {},
     "output_type": "execute_result"
    }
   ],
   "source": [
    "promotion_last_5years = df.groupby('promotion_last_5years')['promotion_last_5years'].agg('count').sort_values(ascending = False)\n",
    "promotion_last_5years"
   ]
  },
  {
   "cell_type": "code",
   "execution_count": 15,
   "id": "5f22736c",
   "metadata": {
    "execution": {
     "iopub.execute_input": "2022-08-07T19:53:05.754598Z",
     "iopub.status.busy": "2022-08-07T19:53:05.754001Z",
     "iopub.status.idle": "2022-08-07T19:53:06.051631Z",
     "shell.execute_reply": "2022-08-07T19:53:06.050365Z"
    },
    "papermill": {
     "duration": 0.31435,
     "end_time": "2022-08-07T19:53:06.054242",
     "exception": false,
     "start_time": "2022-08-07T19:53:05.739892",
     "status": "completed"
    },
    "tags": []
   },
   "outputs": [
    {
     "name": "stderr",
     "output_type": "stream",
     "text": [
      "/opt/conda/lib/python3.7/site-packages/seaborn/_decorators.py:43: FutureWarning: Pass the following variable as a keyword arg: x. From version 0.12, the only valid positional argument will be `data`, and passing other arguments without an explicit keyword will result in an error or misinterpretation.\n",
      "  FutureWarning\n"
     ]
    },
    {
     "data": {
      "text/plain": [
       "<AxesSubplot:xlabel='Department', ylabel='count'>"
      ]
     },
     "execution_count": 15,
     "metadata": {},
     "output_type": "execute_result"
    },
    {
     "data": {
      "image/png": "[encoded data removed]",
      "text/plain": [
       "<Figure size 1440x720 with 1 Axes>"
      ]
     },
     "metadata": {
      "needs_background": "light"
     },
     "output_type": "display_data"
    }
   ],
   "source": [
    "# Department\n",
    "plt.figure(figsize =(20,10))\n",
    "sns.countplot('Department', data = df,hue = 'left')"
   ]
  },
  {
   "cell_type": "code",
   "execution_count": 16,
   "id": "b901957c",
   "metadata": {
    "execution": {
     "iopub.execute_input": "2022-08-07T19:53:06.078081Z",
     "iopub.status.busy": "2022-08-07T19:53:06.077712Z",
     "iopub.status.idle": "2022-08-07T19:53:07.073693Z",
     "shell.execute_reply": "2022-08-07T19:53:07.072533Z"
    },
    "papermill": {
     "duration": 1.010616,
     "end_time": "2022-08-07T19:53:07.076024",
     "exception": false,
     "start_time": "2022-08-07T19:53:06.065408",
     "status": "completed"
    },
    "tags": []
   },
   "outputs": [
    {
     "data": {
      "text/plain": [
       "<AxesSubplot:xlabel='satisfaction_level', ylabel='Department'>"
      ]
     },
     "execution_count": 16,
     "metadata": {},
     "output_type": "execute_result"
    },
    {
     "data": {
      "image/png": "[encoded data removed]",
      "text/plain": [
       "<Figure size 432x288 with 1 Axes>"
      ]
     },
     "metadata": {
      "needs_background": "light"
     },
     "output_type": "display_data"
    }
   ],
   "source": [
    "sns.barplot(x='satisfaction_level', y = 'Department',data = df, hue = 'left')"
   ]
  },
  {
   "cell_type": "code",
   "execution_count": 17,
   "id": "6f273012",
   "metadata": {
    "execution": {
     "iopub.execute_input": "2022-08-07T19:53:07.102034Z",
     "iopub.status.busy": "2022-08-07T19:53:07.101691Z",
     "iopub.status.idle": "2022-08-07T19:53:08.011121Z",
     "shell.execute_reply": "2022-08-07T19:53:08.009765Z"
    },
    "papermill": {
     "duration": 0.925147,
     "end_time": "2022-08-07T19:53:08.013413",
     "exception": false,
     "start_time": "2022-08-07T19:53:07.088266",
     "status": "completed"
    },
    "tags": []
   },
   "outputs": [
    {
     "data": {
      "text/plain": [
       "<AxesSubplot:xlabel='last_evaluation', ylabel='Department'>"
      ]
     },
     "execution_count": 17,
     "metadata": {},
     "output_type": "execute_result"
    },
    {
     "data": {
      "image/png": "[encoded data removed]",
      "text/plain": [
       "<Figure size 432x288 with 1 Axes>"
      ]
     },
     "metadata": {
      "needs_background": "light"
     },
     "output_type": "display_data"
    }
   ],
   "source": [
    "# Which department had last evaluation and the employee left the firm?\n",
    "sns.barplot(x='last_evaluation', y = 'Department',data = df, hue = 'left')"
   ]
  },
  {
   "cell_type": "code",
   "execution_count": 18,
   "id": "c5935940",
   "metadata": {
    "execution": {
     "iopub.execute_input": "2022-08-07T19:53:08.040576Z",
     "iopub.status.busy": "2022-08-07T19:53:08.039835Z",
     "iopub.status.idle": "2022-08-07T19:53:08.753778Z",
     "shell.execute_reply": "2022-08-07T19:53:08.752958Z"
    },
    "papermill": {
     "duration": 0.730179,
     "end_time": "2022-08-07T19:53:08.756168",
     "exception": false,
     "start_time": "2022-08-07T19:53:08.025989",
     "status": "completed"
    },
    "tags": []
   },
   "outputs": [
    {
     "data": {
      "text/plain": [
       "<AxesSubplot:xlabel='time_spend_company', ylabel='average_montly_hours'>"
      ]
     },
     "execution_count": 18,
     "metadata": {},
     "output_type": "execute_result"
    },
    {
     "data": {
      "image/png": "[encoded data removed]",
      "text/plain": [
       "<Figure size 432x288 with 1 Axes>"
      ]
     },
     "metadata": {
      "needs_background": "light"
     },
     "output_type": "display_data"
    }
   ],
   "source": [
    "# Average monthly hours spent by employee during their time spend in company and the people left the company.\n",
    "\n",
    "sns.barplot(x = 'time_spend_company', y = 'average_montly_hours',data = df, hue = 'left')\n"
   ]
  },
  {
   "cell_type": "code",
   "execution_count": 19,
   "id": "a00eb672",
   "metadata": {
    "execution": {
     "iopub.execute_input": "2022-08-07T19:53:08.784204Z",
     "iopub.status.busy": "2022-08-07T19:53:08.783880Z",
     "iopub.status.idle": "2022-08-07T19:53:08.790525Z",
     "shell.execute_reply": "2022-08-07T19:53:08.789739Z"
    },
    "papermill": {
     "duration": 0.023466,
     "end_time": "2022-08-07T19:53:08.792355",
     "exception": false,
     "start_time": "2022-08-07T19:53:08.768889",
     "status": "completed"
    },
    "tags": []
   },
   "outputs": [
    {
     "data": {
      "text/plain": [
       "(3571, 10)"
      ]
     },
     "execution_count": 19,
     "metadata": {},
     "output_type": "execute_result"
    }
   ],
   "source": [
    "left = df[df.left == 1]\n",
    "left.shape"
   ]
  },
  {
   "cell_type": "code",
   "execution_count": 20,
   "id": "0b196fc6",
   "metadata": {
    "execution": {
     "iopub.execute_input": "2022-08-07T19:53:08.818316Z",
     "iopub.status.busy": "2022-08-07T19:53:08.817809Z",
     "iopub.status.idle": "2022-08-07T19:53:08.826015Z",
     "shell.execute_reply": "2022-08-07T19:53:08.824869Z"
    },
    "papermill": {
     "duration": 0.024254,
     "end_time": "2022-08-07T19:53:08.828219",
     "exception": false,
     "start_time": "2022-08-07T19:53:08.803965",
     "status": "completed"
    },
    "tags": []
   },
   "outputs": [
    {
     "data": {
      "text/plain": [
       "(11428, 10)"
      ]
     },
     "execution_count": 20,
     "metadata": {},
     "output_type": "execute_result"
    }
   ],
   "source": [
    "retained = df[df.left == 0]\n",
    "retained.shape"
   ]
  },
  {
   "cell_type": "code",
   "execution_count": 21,
   "id": "f9f1bb19",
   "metadata": {
    "execution": {
     "iopub.execute_input": "2022-08-07T19:53:08.855390Z",
     "iopub.status.busy": "2022-08-07T19:53:08.854979Z",
     "iopub.status.idle": "2022-08-07T19:53:08.875268Z",
     "shell.execute_reply": "2022-08-07T19:53:08.874393Z"
    },
    "papermill": {
     "duration": 0.036597,
     "end_time": "2022-08-07T19:53:08.877418",
     "exception": false,
     "start_time": "2022-08-07T19:53:08.840821",
     "status": "completed"
    },
    "tags": []
   },
   "outputs": [
    {
     "data": {
      "text/html": [
       "<div>\n",
       "<style scoped>\n",
       "    .dataframe tbody tr th:only-of-type {\n",
       "        vertical-align: middle;\n",
       "    }\n",
       "\n",
       "    .dataframe tbody tr th {\n",
       "        vertical-align: top;\n",
       "    }\n",
       "\n",
       "    .dataframe thead th {\n",
       "        text-align: right;\n",
       "    }\n",
       "</style>\n",
       "<table border=\"1\" class=\"dataframe\">\n",
       "  <thead>\n",
       "    <tr style=\"text-align: right;\">\n",
       "      <th></th>\n",
       "      <th>satisfaction_level</th>\n",
       "      <th>last_evaluation</th>\n",
       "      <th>number_project</th>\n",
       "      <th>average_montly_hours</th>\n",
       "      <th>time_spend_company</th>\n",
       "      <th>Work_accident</th>\n",
       "      <th>promotion_last_5years</th>\n",
       "    </tr>\n",
       "    <tr>\n",
       "      <th>left</th>\n",
       "      <th></th>\n",
       "      <th></th>\n",
       "      <th></th>\n",
       "      <th></th>\n",
       "      <th></th>\n",
       "      <th></th>\n",
       "      <th></th>\n",
       "    </tr>\n",
       "  </thead>\n",
       "  <tbody>\n",
       "    <tr>\n",
       "      <th>0</th>\n",
       "      <td>0.666810</td>\n",
       "      <td>0.715473</td>\n",
       "      <td>3.786664</td>\n",
       "      <td>199.060203</td>\n",
       "      <td>3.380032</td>\n",
       "      <td>0.175009</td>\n",
       "      <td>0.026251</td>\n",
       "    </tr>\n",
       "    <tr>\n",
       "      <th>1</th>\n",
       "      <td>0.440098</td>\n",
       "      <td>0.718113</td>\n",
       "      <td>3.855503</td>\n",
       "      <td>207.419210</td>\n",
       "      <td>3.876505</td>\n",
       "      <td>0.047326</td>\n",
       "      <td>0.005321</td>\n",
       "    </tr>\n",
       "  </tbody>\n",
       "</table>\n",
       "</div>"
      ],
      "text/plain": [
       "      satisfaction_level  last_evaluation  number_project  \\\n",
       "left                                                        \n",
       "0               0.666810         0.715473        3.786664   \n",
       "1               0.440098         0.718113        3.855503   \n",
       "\n",
       "      average_montly_hours  time_spend_company  Work_accident  \\\n",
       "left                                                            \n",
       "0               199.060203            3.380032       0.175009   \n",
       "1               207.419210            3.876505       0.047326   \n",
       "\n",
       "      promotion_last_5years  \n",
       "left                         \n",
       "0                  0.026251  \n",
       "1                  0.005321  "
      ]
     },
     "execution_count": 21,
     "metadata": {},
     "output_type": "execute_result"
    }
   ],
   "source": [
    "df.groupby('left').mean()"
   ]
  },
  {
   "cell_type": "markdown",
   "id": "2f44fdfb",
   "metadata": {
    "papermill": {
     "duration": 0.012239,
     "end_time": "2022-08-07T19:53:08.902513",
     "exception": false,
     "start_time": "2022-08-07T19:53:08.890274",
     "status": "completed"
    },
    "tags": []
   },
   "source": [
    "Satisfaction Level:-  satisfaction level is relatively low who are leaving the firm.\n",
    "Average-monthly_hours :- Average_monthly_hours are high who are leaving the firm.\n",
    "promotion_last_5years :- people who get low number of promotion leaving the firm."
   ]
  },
  {
   "cell_type": "markdown",
   "id": "3ddeefb5",
   "metadata": {
    "papermill": {
     "duration": 0.012414,
     "end_time": "2022-08-07T19:53:08.927886",
     "exception": false,
     "start_time": "2022-08-07T19:53:08.915472",
     "status": "completed"
    },
    "tags": []
   },
   "source": [
    "From further analysis 'satisfaction_level','average_montly_hours','promotion_last_5years','salary' are the columns which we are going to analysis further."
   ]
  },
  {
   "cell_type": "code",
   "execution_count": 22,
   "id": "a93b66a2",
   "metadata": {
    "execution": {
     "iopub.execute_input": "2022-08-07T19:53:08.955151Z",
     "iopub.status.busy": "2022-08-07T19:53:08.954454Z",
     "iopub.status.idle": "2022-08-07T19:53:08.966694Z",
     "shell.execute_reply": "2022-08-07T19:53:08.965709Z"
    },
    "papermill": {
     "duration": 0.028519,
     "end_time": "2022-08-07T19:53:08.968999",
     "exception": false,
     "start_time": "2022-08-07T19:53:08.940480",
     "status": "completed"
    },
    "tags": []
   },
   "outputs": [
    {
     "data": {
      "text/html": [
       "<div>\n",
       "<style scoped>\n",
       "    .dataframe tbody tr th:only-of-type {\n",
       "        vertical-align: middle;\n",
       "    }\n",
       "\n",
       "    .dataframe tbody tr th {\n",
       "        vertical-align: top;\n",
       "    }\n",
       "\n",
       "    .dataframe thead th {\n",
       "        text-align: right;\n",
       "    }\n",
       "</style>\n",
       "<table border=\"1\" class=\"dataframe\">\n",
       "  <thead>\n",
       "    <tr style=\"text-align: right;\">\n",
       "      <th></th>\n",
       "      <th>satisfaction_level</th>\n",
       "      <th>average_montly_hours</th>\n",
       "      <th>promotion_last_5years</th>\n",
       "      <th>salary</th>\n",
       "    </tr>\n",
       "  </thead>\n",
       "  <tbody>\n",
       "    <tr>\n",
       "      <th>0</th>\n",
       "      <td>0.38</td>\n",
       "      <td>157</td>\n",
       "      <td>0</td>\n",
       "      <td>low</td>\n",
       "    </tr>\n",
       "    <tr>\n",
       "      <th>1</th>\n",
       "      <td>0.80</td>\n",
       "      <td>262</td>\n",
       "      <td>0</td>\n",
       "      <td>medium</td>\n",
       "    </tr>\n",
       "    <tr>\n",
       "      <th>2</th>\n",
       "      <td>0.11</td>\n",
       "      <td>272</td>\n",
       "      <td>0</td>\n",
       "      <td>medium</td>\n",
       "    </tr>\n",
       "    <tr>\n",
       "      <th>3</th>\n",
       "      <td>0.72</td>\n",
       "      <td>223</td>\n",
       "      <td>0</td>\n",
       "      <td>low</td>\n",
       "    </tr>\n",
       "    <tr>\n",
       "      <th>4</th>\n",
       "      <td>0.37</td>\n",
       "      <td>159</td>\n",
       "      <td>0</td>\n",
       "      <td>low</td>\n",
       "    </tr>\n",
       "  </tbody>\n",
       "</table>\n",
       "</div>"
      ],
      "text/plain": [
       "   satisfaction_level  average_montly_hours  promotion_last_5years  salary\n",
       "0                0.38                   157                      0     low\n",
       "1                0.80                   262                      0  medium\n",
       "2                0.11                   272                      0  medium\n",
       "3                0.72                   223                      0     low\n",
       "4                0.37                   159                      0     low"
      ]
     },
     "execution_count": 22,
     "metadata": {},
     "output_type": "execute_result"
    }
   ],
   "source": [
    "df1 = df[['satisfaction_level','average_montly_hours','promotion_last_5years','salary']]\n",
    "df1.head()"
   ]
  },
  {
   "cell_type": "markdown",
   "id": "aab74492",
   "metadata": {
    "papermill": {
     "duration": 0.0132,
     "end_time": "2022-08-07T19:53:08.995156",
     "exception": false,
     "start_time": "2022-08-07T19:53:08.981956",
     "status": "completed"
    },
    "tags": []
   },
   "source": [
    "# Converting categorical values into numerical values using LabelEncoder"
   ]
  },
  {
   "cell_type": "code",
   "execution_count": 23,
   "id": "02be69dc",
   "metadata": {
    "execution": {
     "iopub.execute_input": "2022-08-07T19:53:09.023957Z",
     "iopub.status.busy": "2022-08-07T19:53:09.023581Z",
     "iopub.status.idle": "2022-08-07T19:53:09.035107Z",
     "shell.execute_reply": "2022-08-07T19:53:09.034394Z"
    },
    "papermill": {
     "duration": 0.028731,
     "end_time": "2022-08-07T19:53:09.037246",
     "exception": false,
     "start_time": "2022-08-07T19:53:09.008515",
     "status": "completed"
    },
    "tags": []
   },
   "outputs": [
    {
     "data": {
      "text/html": [
       "<div>\n",
       "<style scoped>\n",
       "    .dataframe tbody tr th:only-of-type {\n",
       "        vertical-align: middle;\n",
       "    }\n",
       "\n",
       "    .dataframe tbody tr th {\n",
       "        vertical-align: top;\n",
       "    }\n",
       "\n",
       "    .dataframe thead th {\n",
       "        text-align: right;\n",
       "    }\n",
       "</style>\n",
       "<table border=\"1\" class=\"dataframe\">\n",
       "  <thead>\n",
       "    <tr style=\"text-align: right;\">\n",
       "      <th></th>\n",
       "      <th>salary_high</th>\n",
       "      <th>salary_low</th>\n",
       "      <th>salary_medium</th>\n",
       "    </tr>\n",
       "  </thead>\n",
       "  <tbody>\n",
       "    <tr>\n",
       "      <th>0</th>\n",
       "      <td>0</td>\n",
       "      <td>1</td>\n",
       "      <td>0</td>\n",
       "    </tr>\n",
       "    <tr>\n",
       "      <th>1</th>\n",
       "      <td>0</td>\n",
       "      <td>0</td>\n",
       "      <td>1</td>\n",
       "    </tr>\n",
       "    <tr>\n",
       "      <th>2</th>\n",
       "      <td>0</td>\n",
       "      <td>0</td>\n",
       "      <td>1</td>\n",
       "    </tr>\n",
       "    <tr>\n",
       "      <th>3</th>\n",
       "      <td>0</td>\n",
       "      <td>1</td>\n",
       "      <td>0</td>\n",
       "    </tr>\n",
       "    <tr>\n",
       "      <th>4</th>\n",
       "      <td>0</td>\n",
       "      <td>1</td>\n",
       "      <td>0</td>\n",
       "    </tr>\n",
       "  </tbody>\n",
       "</table>\n",
       "</div>"
      ],
      "text/plain": [
       "   salary_high  salary_low  salary_medium\n",
       "0            0           1              0\n",
       "1            0           0              1\n",
       "2            0           0              1\n",
       "3            0           1              0\n",
       "4            0           1              0"
      ]
     },
     "execution_count": 23,
     "metadata": {},
     "output_type": "execute_result"
    }
   ],
   "source": [
    "salary_dummy = pd.get_dummies(df1['salary'], prefix = 'salary')\n",
    "salary_dummy.head()"
   ]
  },
  {
   "cell_type": "code",
   "execution_count": 24,
   "id": "c07bdaff",
   "metadata": {
    "execution": {
     "iopub.execute_input": "2022-08-07T19:53:09.066496Z",
     "iopub.status.busy": "2022-08-07T19:53:09.065864Z",
     "iopub.status.idle": "2022-08-07T19:53:09.076383Z",
     "shell.execute_reply": "2022-08-07T19:53:09.075382Z"
    },
    "papermill": {
     "duration": 0.027624,
     "end_time": "2022-08-07T19:53:09.078449",
     "exception": false,
     "start_time": "2022-08-07T19:53:09.050825",
     "status": "completed"
    },
    "tags": []
   },
   "outputs": [
    {
     "data": {
      "text/html": [
       "<div>\n",
       "<style scoped>\n",
       "    .dataframe tbody tr th:only-of-type {\n",
       "        vertical-align: middle;\n",
       "    }\n",
       "\n",
       "    .dataframe tbody tr th {\n",
       "        vertical-align: top;\n",
       "    }\n",
       "\n",
       "    .dataframe thead th {\n",
       "        text-align: right;\n",
       "    }\n",
       "</style>\n",
       "<table border=\"1\" class=\"dataframe\">\n",
       "  <thead>\n",
       "    <tr style=\"text-align: right;\">\n",
       "      <th></th>\n",
       "      <th>satisfaction_level</th>\n",
       "      <th>average_montly_hours</th>\n",
       "      <th>promotion_last_5years</th>\n",
       "    </tr>\n",
       "  </thead>\n",
       "  <tbody>\n",
       "    <tr>\n",
       "      <th>0</th>\n",
       "      <td>0.38</td>\n",
       "      <td>157</td>\n",
       "      <td>0</td>\n",
       "    </tr>\n",
       "    <tr>\n",
       "      <th>1</th>\n",
       "      <td>0.80</td>\n",
       "      <td>262</td>\n",
       "      <td>0</td>\n",
       "    </tr>\n",
       "    <tr>\n",
       "      <th>2</th>\n",
       "      <td>0.11</td>\n",
       "      <td>272</td>\n",
       "      <td>0</td>\n",
       "    </tr>\n",
       "    <tr>\n",
       "      <th>3</th>\n",
       "      <td>0.72</td>\n",
       "      <td>223</td>\n",
       "      <td>0</td>\n",
       "    </tr>\n",
       "    <tr>\n",
       "      <th>4</th>\n",
       "      <td>0.37</td>\n",
       "      <td>159</td>\n",
       "      <td>0</td>\n",
       "    </tr>\n",
       "  </tbody>\n",
       "</table>\n",
       "</div>"
      ],
      "text/plain": [
       "   satisfaction_level  average_montly_hours  promotion_last_5years\n",
       "0                0.38                   157                      0\n",
       "1                0.80                   262                      0\n",
       "2                0.11                   272                      0\n",
       "3                0.72                   223                      0\n",
       "4                0.37                   159                      0"
      ]
     },
     "execution_count": 24,
     "metadata": {},
     "output_type": "execute_result"
    }
   ],
   "source": [
    "new_df = df1.drop('salary', axis =1)\n",
    "new_df.head()"
   ]
  },
  {
   "cell_type": "markdown",
   "id": "77ac2d26",
   "metadata": {
    "papermill": {
     "duration": 0.013084,
     "end_time": "2022-08-07T19:53:09.105251",
     "exception": false,
     "start_time": "2022-08-07T19:53:09.092167",
     "status": "completed"
    },
    "tags": []
   },
   "source": [
    "# Normalization\n",
    "\n",
    "Normalization in machine learning is the process of translating data into the range [0, 1] (or any other range) or simply transforming data onto the unit sphere."
   ]
  },
  {
   "cell_type": "code",
   "execution_count": 25,
   "id": "8d4f2a0a",
   "metadata": {
    "execution": {
     "iopub.execute_input": "2022-08-07T19:53:09.134147Z",
     "iopub.status.busy": "2022-08-07T19:53:09.133510Z",
     "iopub.status.idle": "2022-08-07T19:53:09.280694Z",
     "shell.execute_reply": "2022-08-07T19:53:09.279852Z"
    },
    "papermill": {
     "duration": 0.164711,
     "end_time": "2022-08-07T19:53:09.283031",
     "exception": false,
     "start_time": "2022-08-07T19:53:09.118320",
     "status": "completed"
    },
    "tags": []
   },
   "outputs": [
    {
     "data": {
      "text/html": [
       "<div>\n",
       "<style scoped>\n",
       "    .dataframe tbody tr th:only-of-type {\n",
       "        vertical-align: middle;\n",
       "    }\n",
       "\n",
       "    .dataframe tbody tr th {\n",
       "        vertical-align: top;\n",
       "    }\n",
       "\n",
       "    .dataframe thead th {\n",
       "        text-align: right;\n",
       "    }\n",
       "</style>\n",
       "<table border=\"1\" class=\"dataframe\">\n",
       "  <thead>\n",
       "    <tr style=\"text-align: right;\">\n",
       "      <th></th>\n",
       "      <th>satisfaction_level</th>\n",
       "      <th>average_montly_hours</th>\n",
       "      <th>promotion_last_5years</th>\n",
       "    </tr>\n",
       "  </thead>\n",
       "  <tbody>\n",
       "    <tr>\n",
       "      <th>0</th>\n",
       "      <td>0.002420</td>\n",
       "      <td>0.999997</td>\n",
       "      <td>0.0</td>\n",
       "    </tr>\n",
       "    <tr>\n",
       "      <th>1</th>\n",
       "      <td>0.003053</td>\n",
       "      <td>0.999995</td>\n",
       "      <td>0.0</td>\n",
       "    </tr>\n",
       "    <tr>\n",
       "      <th>2</th>\n",
       "      <td>0.000404</td>\n",
       "      <td>1.000000</td>\n",
       "      <td>0.0</td>\n",
       "    </tr>\n",
       "    <tr>\n",
       "      <th>3</th>\n",
       "      <td>0.003229</td>\n",
       "      <td>0.999995</td>\n",
       "      <td>0.0</td>\n",
       "    </tr>\n",
       "    <tr>\n",
       "      <th>4</th>\n",
       "      <td>0.002327</td>\n",
       "      <td>0.999997</td>\n",
       "      <td>0.0</td>\n",
       "    </tr>\n",
       "  </tbody>\n",
       "</table>\n",
       "</div>"
      ],
      "text/plain": [
       "   satisfaction_level  average_montly_hours  promotion_last_5years\n",
       "0            0.002420              0.999997                    0.0\n",
       "1            0.003053              0.999995                    0.0\n",
       "2            0.000404              1.000000                    0.0\n",
       "3            0.003229              0.999995                    0.0\n",
       "4            0.002327              0.999997                    0.0"
      ]
     },
     "execution_count": 25,
     "metadata": {},
     "output_type": "execute_result"
    }
   ],
   "source": [
    " from sklearn.preprocessing import Normalizer\n",
    "norm_df = Normalizer().fit_transform(new_df)\n",
    "\n",
    "final_df = pd.DataFrame(norm_df, columns = new_df.columns)\n",
    "final_df.head()"
   ]
  },
  {
   "cell_type": "code",
   "execution_count": 26,
   "id": "69b6ab9e",
   "metadata": {
    "execution": {
     "iopub.execute_input": "2022-08-07T19:53:09.314047Z",
     "iopub.status.busy": "2022-08-07T19:53:09.312702Z",
     "iopub.status.idle": "2022-08-07T19:53:09.327588Z",
     "shell.execute_reply": "2022-08-07T19:53:09.326430Z"
    },
    "papermill": {
     "duration": 0.032338,
     "end_time": "2022-08-07T19:53:09.329762",
     "exception": false,
     "start_time": "2022-08-07T19:53:09.297424",
     "status": "completed"
    },
    "tags": []
   },
   "outputs": [
    {
     "data": {
      "text/html": [
       "<div>\n",
       "<style scoped>\n",
       "    .dataframe tbody tr th:only-of-type {\n",
       "        vertical-align: middle;\n",
       "    }\n",
       "\n",
       "    .dataframe tbody tr th {\n",
       "        vertical-align: top;\n",
       "    }\n",
       "\n",
       "    .dataframe thead th {\n",
       "        text-align: right;\n",
       "    }\n",
       "</style>\n",
       "<table border=\"1\" class=\"dataframe\">\n",
       "  <thead>\n",
       "    <tr style=\"text-align: right;\">\n",
       "      <th></th>\n",
       "      <th>satisfaction_level</th>\n",
       "      <th>average_montly_hours</th>\n",
       "      <th>promotion_last_5years</th>\n",
       "      <th>salary_high</th>\n",
       "      <th>salary_low</th>\n",
       "      <th>salary_medium</th>\n",
       "    </tr>\n",
       "  </thead>\n",
       "  <tbody>\n",
       "    <tr>\n",
       "      <th>0</th>\n",
       "      <td>0.002420</td>\n",
       "      <td>0.999997</td>\n",
       "      <td>0.0</td>\n",
       "      <td>0</td>\n",
       "      <td>1</td>\n",
       "      <td>0</td>\n",
       "    </tr>\n",
       "    <tr>\n",
       "      <th>1</th>\n",
       "      <td>0.003053</td>\n",
       "      <td>0.999995</td>\n",
       "      <td>0.0</td>\n",
       "      <td>0</td>\n",
       "      <td>0</td>\n",
       "      <td>1</td>\n",
       "    </tr>\n",
       "    <tr>\n",
       "      <th>2</th>\n",
       "      <td>0.000404</td>\n",
       "      <td>1.000000</td>\n",
       "      <td>0.0</td>\n",
       "      <td>0</td>\n",
       "      <td>0</td>\n",
       "      <td>1</td>\n",
       "    </tr>\n",
       "    <tr>\n",
       "      <th>3</th>\n",
       "      <td>0.003229</td>\n",
       "      <td>0.999995</td>\n",
       "      <td>0.0</td>\n",
       "      <td>0</td>\n",
       "      <td>1</td>\n",
       "      <td>0</td>\n",
       "    </tr>\n",
       "    <tr>\n",
       "      <th>4</th>\n",
       "      <td>0.002327</td>\n",
       "      <td>0.999997</td>\n",
       "      <td>0.0</td>\n",
       "      <td>0</td>\n",
       "      <td>1</td>\n",
       "      <td>0</td>\n",
       "    </tr>\n",
       "  </tbody>\n",
       "</table>\n",
       "</div>"
      ],
      "text/plain": [
       "   satisfaction_level  average_montly_hours  promotion_last_5years  \\\n",
       "0            0.002420              0.999997                    0.0   \n",
       "1            0.003053              0.999995                    0.0   \n",
       "2            0.000404              1.000000                    0.0   \n",
       "3            0.003229              0.999995                    0.0   \n",
       "4            0.002327              0.999997                    0.0   \n",
       "\n",
       "   salary_high  salary_low  salary_medium  \n",
       "0            0           1              0  \n",
       "1            0           0              1  \n",
       "2            0           0              1  \n",
       "3            0           1              0  \n",
       "4            0           1              0  "
      ]
     },
     "execution_count": 26,
     "metadata": {},
     "output_type": "execute_result"
    }
   ],
   "source": [
    "final_df = pd.concat([final_df,salary_dummy], axis = \"columns\")\n",
    "final_df.head()"
   ]
  },
  {
   "cell_type": "code",
   "execution_count": 27,
   "id": "9d56437d",
   "metadata": {
    "execution": {
     "iopub.execute_input": "2022-08-07T19:53:09.359049Z",
     "iopub.status.busy": "2022-08-07T19:53:09.358703Z",
     "iopub.status.idle": "2022-08-07T19:53:09.363675Z",
     "shell.execute_reply": "2022-08-07T19:53:09.362618Z"
    },
    "papermill": {
     "duration": 0.021653,
     "end_time": "2022-08-07T19:53:09.365609",
     "exception": false,
     "start_time": "2022-08-07T19:53:09.343956",
     "status": "completed"
    },
    "tags": []
   },
   "outputs": [],
   "source": [
    "x = final_df\n",
    "y = df.left"
   ]
  },
  {
   "cell_type": "code",
   "execution_count": 28,
   "id": "229bae53",
   "metadata": {
    "execution": {
     "iopub.execute_input": "2022-08-07T19:53:09.394860Z",
     "iopub.status.busy": "2022-08-07T19:53:09.394380Z",
     "iopub.status.idle": "2022-08-07T19:53:09.400215Z",
     "shell.execute_reply": "2022-08-07T19:53:09.399419Z"
    },
    "papermill": {
     "duration": 0.023237,
     "end_time": "2022-08-07T19:53:09.402271",
     "exception": false,
     "start_time": "2022-08-07T19:53:09.379034",
     "status": "completed"
    },
    "tags": []
   },
   "outputs": [
    {
     "data": {
      "text/plain": [
       "0    1\n",
       "1    1\n",
       "2    1\n",
       "3    1\n",
       "4    1\n",
       "Name: left, dtype: int64"
      ]
     },
     "execution_count": 28,
     "metadata": {},
     "output_type": "execute_result"
    }
   ],
   "source": [
    "y.head()"
   ]
  },
  {
   "cell_type": "code",
   "execution_count": 29,
   "id": "40852998",
   "metadata": {
    "execution": {
     "iopub.execute_input": "2022-08-07T19:53:09.430675Z",
     "iopub.status.busy": "2022-08-07T19:53:09.430162Z",
     "iopub.status.idle": "2022-08-07T19:53:09.563926Z",
     "shell.execute_reply": "2022-08-07T19:53:09.562755Z"
    },
    "papermill": {
     "duration": 0.151588,
     "end_time": "2022-08-07T19:53:09.566869",
     "exception": false,
     "start_time": "2022-08-07T19:53:09.415281",
     "status": "completed"
    },
    "tags": []
   },
   "outputs": [],
   "source": [
    "from sklearn.linear_model import LogisticRegression\n",
    "clf = LogisticRegression()"
   ]
  },
  {
   "cell_type": "code",
   "execution_count": 30,
   "id": "9f1c1e6b",
   "metadata": {
    "execution": {
     "iopub.execute_input": "2022-08-07T19:53:09.596239Z",
     "iopub.status.busy": "2022-08-07T19:53:09.595872Z",
     "iopub.status.idle": "2022-08-07T19:53:09.604498Z",
     "shell.execute_reply": "2022-08-07T19:53:09.603783Z"
    },
    "papermill": {
     "duration": 0.025557,
     "end_time": "2022-08-07T19:53:09.606336",
     "exception": false,
     "start_time": "2022-08-07T19:53:09.580779",
     "status": "completed"
    },
    "tags": []
   },
   "outputs": [],
   "source": [
    "from sklearn.model_selection import train_test_split\n",
    "x_train, x_test, y_train, y_test = train_test_split(x,y, test_size=0.25, random_state=0)"
   ]
  },
  {
   "cell_type": "code",
   "execution_count": 31,
   "id": "34154f0b",
   "metadata": {
    "execution": {
     "iopub.execute_input": "2022-08-07T19:53:09.636066Z",
     "iopub.status.busy": "2022-08-07T19:53:09.635126Z",
     "iopub.status.idle": "2022-08-07T19:53:09.641162Z",
     "shell.execute_reply": "2022-08-07T19:53:09.640115Z"
    },
    "papermill": {
     "duration": 0.023225,
     "end_time": "2022-08-07T19:53:09.643481",
     "exception": false,
     "start_time": "2022-08-07T19:53:09.620256",
     "status": "completed"
    },
    "tags": []
   },
   "outputs": [
    {
     "data": {
      "text/plain": [
       "(11249, 6)"
      ]
     },
     "execution_count": 31,
     "metadata": {},
     "output_type": "execute_result"
    }
   ],
   "source": [
    "x_train.shape"
   ]
  },
  {
   "cell_type": "code",
   "execution_count": 32,
   "id": "0d61f68c",
   "metadata": {
    "execution": {
     "iopub.execute_input": "2022-08-07T19:53:09.673476Z",
     "iopub.status.busy": "2022-08-07T19:53:09.673066Z",
     "iopub.status.idle": "2022-08-07T19:53:09.679171Z",
     "shell.execute_reply": "2022-08-07T19:53:09.678407Z"
    },
    "papermill": {
     "duration": 0.024094,
     "end_time": "2022-08-07T19:53:09.681267",
     "exception": false,
     "start_time": "2022-08-07T19:53:09.657173",
     "status": "completed"
    },
    "tags": []
   },
   "outputs": [
    {
     "data": {
      "text/plain": [
       "(3750, 6)"
      ]
     },
     "execution_count": 32,
     "metadata": {},
     "output_type": "execute_result"
    }
   ],
   "source": [
    "x_test.shape"
   ]
  },
  {
   "cell_type": "code",
   "execution_count": 33,
   "id": "a02da669",
   "metadata": {
    "execution": {
     "iopub.execute_input": "2022-08-07T19:53:09.711143Z",
     "iopub.status.busy": "2022-08-07T19:53:09.710365Z",
     "iopub.status.idle": "2022-08-07T19:53:09.795754Z",
     "shell.execute_reply": "2022-08-07T19:53:09.794360Z"
    },
    "papermill": {
     "duration": 0.104028,
     "end_time": "2022-08-07T19:53:09.799433",
     "exception": false,
     "start_time": "2022-08-07T19:53:09.695405",
     "status": "completed"
    },
    "tags": []
   },
   "outputs": [
    {
     "data": {
      "text/plain": [
       "LogisticRegression()"
      ]
     },
     "execution_count": 33,
     "metadata": {},
     "output_type": "execute_result"
    }
   ],
   "source": [
    "clf.fit(x_train,y_train)"
   ]
  },
  {
   "cell_type": "code",
   "execution_count": 34,
   "id": "1dba2d2f",
   "metadata": {
    "execution": {
     "iopub.execute_input": "2022-08-07T19:53:09.877386Z",
     "iopub.status.busy": "2022-08-07T19:53:09.876722Z",
     "iopub.status.idle": "2022-08-07T19:53:09.897853Z",
     "shell.execute_reply": "2022-08-07T19:53:09.896430Z"
    },
    "papermill": {
     "duration": 0.065475,
     "end_time": "2022-08-07T19:53:09.902200",
     "exception": false,
     "start_time": "2022-08-07T19:53:09.836725",
     "status": "completed"
    },
    "tags": []
   },
   "outputs": [
    {
     "data": {
      "text/plain": [
       "array([0, 0, 0, ..., 0, 0, 0])"
      ]
     },
     "execution_count": 34,
     "metadata": {},
     "output_type": "execute_result"
    }
   ],
   "source": [
    "clf.predict(x_train)"
   ]
  },
  {
   "cell_type": "markdown",
   "id": "514cb44c",
   "metadata": {
    "papermill": {
     "duration": 0.036118,
     "end_time": "2022-08-07T19:53:09.976489",
     "exception": false,
     "start_time": "2022-08-07T19:53:09.940371",
     "status": "completed"
    },
    "tags": []
   },
   "source": [
    "# Model Accuracy"
   ]
  },
  {
   "cell_type": "code",
   "execution_count": 35,
   "id": "9f7b5eb8",
   "metadata": {
    "execution": {
     "iopub.execute_input": "2022-08-07T19:53:10.028720Z",
     "iopub.status.busy": "2022-08-07T19:53:10.028271Z",
     "iopub.status.idle": "2022-08-07T19:53:10.041952Z",
     "shell.execute_reply": "2022-08-07T19:53:10.040694Z"
    },
    "papermill": {
     "duration": 0.033525,
     "end_time": "2022-08-07T19:53:10.045458",
     "exception": false,
     "start_time": "2022-08-07T19:53:10.011933",
     "status": "completed"
    },
    "tags": []
   },
   "outputs": [
    {
     "data": {
      "text/plain": [
       "0.7682666666666667"
      ]
     },
     "execution_count": 35,
     "metadata": {},
     "output_type": "execute_result"
    }
   ],
   "source": [
    "clf.score(x_test,y_test)"
   ]
  }
 ],
 "metadata": {
  "kernelspec": {
   "display_name": "Python 3",
   "language": "python",
   "name": "python3"
  },
  "language_info": {
   "codemirror_mode": {
    "name": "ipython",
    "version": 3
   },
   "file_extension": ".py",
   "mimetype": "text/x-python",
   "name": "python",
   "nbconvert_exporter": "python",
   "pygments_lexer": "ipython3",
   "version": "3.7.12"
  },
  "papermill": {
   "default_parameters": {},
   "duration": 16.194103,
   "end_time": "2022-08-07T19:53:10.806231",
   "environment_variables": {},
   "exception": null,
   "input_path": "__notebook__.ipynb",
   "output_path": "__notebook__.ipynb",
   "parameters": {},
   "start_time": "2022-08-07T19:52:54.612128",
   "version": "2.3.4"
  }
 },
 "nbformat": 4,
 "nbformat_minor": 5
}
